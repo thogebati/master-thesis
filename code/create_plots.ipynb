{
 "cells": [
  {
   "cell_type": "markdown",
   "id": "45879f94",
   "metadata": {},
   "source": [
    "### Initialize Variables and import necessary libraries"
   ]
  },
  {
   "cell_type": "code",
   "execution_count": null,
   "id": "79cb2ed3",
   "metadata": {},
   "outputs": [],
   "source": [
    "# %pip install scikit-learn\n",
    "# %pip install seaborn\n",
    "import json\n",
    "import numpy as np\n",
    "import os\n",
    "import plot_helper as ph\n",
    "from const import Const\n",
    "import warnings\n",
    "warnings.filterwarnings('ignore', category=FutureWarning)\n",
    "\n",
    "# the directory where the json with all the data is saved to\n",
    "json_dir = ''\n",
    "\n",
    "if json_dir == '':\n",
    "    raise ValueError(\"please set json_dir\")"
   ]
  },
  {
   "cell_type": "markdown",
   "id": "8fb531e0",
   "metadata": {},
   "source": [
    "### Read Jsons and store in dictionaries"
   ]
  },
  {
   "cell_type": "code",
   "execution_count": null,
   "id": "a28310a9",
   "metadata": {},
   "outputs": [],
   "source": [
    "# Read data json\n",
    "fs = open(json_dir)\n",
    "facial_features = json.load(fs)\n",
    "facial_features = json.loads(json.dumps(facial_features, sort_keys=True))\n",
    "# Go to the imporant part of the data\n",
    "facial_features = facial_features['num_faces']"
   ]
  },
  {
   "cell_type": "markdown",
   "id": "e8645aa4",
   "metadata": {},
   "source": [
    "### Get the date from the json file name"
   ]
  },
  {
   "cell_type": "code",
   "execution_count": null,
   "id": "63899420",
   "metadata": {},
   "outputs": [],
   "source": [
    "file = json_dir.split('/')[-1]\n",
    "und_ind = file.index('_')\n",
    "dot_ind = file.index('.')\n",
    "date = file[und_ind + 1:dot_ind]\n",
    "date"
   ]
  },
  {
   "cell_type": "markdown",
   "id": "4acaa433",
   "metadata": {},
   "source": [
    "### Go though the different face data"
   ]
  },
  {
   "cell_type": "code",
   "execution_count": null,
   "id": "7657f30d",
   "metadata": {},
   "outputs": [],
   "source": [
    "plot_helper = ph.Plot_Helper(date)\n",
    "\n",
    "    \n",
    "combined_dict = facial_features[Const.combined]\n",
    "plot_helper.create_race_gender_mosaic_plot(combined_dict)\n",
    "\n",
    "# Box plots\n",
    "# age\n",
    "plot_helper.create_boxplot(combined_dict, Const.gender, Const.age)\n",
    "plot_helper.create_boxplot(combined_dict, Const.race, Const.age)\n",
    "# emotion\n",
    "plot_helper.create_boxplot(combined_dict, Const.race, Const.emotion)\n",
    "plot_helper.create_boxplot(combined_dict, Const.gender, Const.emotion)\n",
    "# gender\n",
    "plot_helper.create_boxplot(combined_dict, Const.race, Const.gender)\n",
    "# position\n",
    "plot_helper.create_boxplot(combined_dict, Const.gender, Const.face_position_per)\n",
    "plot_helper.create_boxplot(combined_dict, Const.race, Const.face_position_per)\n",
    "\n",
    "plot_helper.create_boxplot(combined_dict, Const.gender, Const.mean_depth)\n",
    "plot_helper.create_boxplot(combined_dict, Const.race, Const.mean_depth)\n",
    "plot_helper.create_boxplot(combined_dict, Const.emotion, Const.mean_depth)\n",
    "plot_helper.create_boxplot(combined_dict, Const.age_range, Const.mean_depth)\n",
    "\n",
    "\n",
    "plot_helper.create_boxplot(combined_dict, Const.gender, Const.centrality)\n",
    "plot_helper.create_boxplot(combined_dict, Const.race, Const.centrality)\n",
    "plot_helper.create_boxplot(combined_dict, Const.emotion, Const.centrality)\n",
    "plot_helper.create_boxplot(combined_dict, Const.age_range, Const.centrality)\n",
    "\n",
    "plot_helper.create_boxplot(combined_dict, Const.gender, Const.face_center_y)\n",
    "plot_helper.create_boxplot(combined_dict, Const.race, Const.face_center_y)\n",
    "plot_helper.create_boxplot(combined_dict, Const.emotion, Const.face_center_y)\n",
    "plot_helper.create_boxplot(combined_dict, Const.age_range, Const.face_center_y)\n",
    "\n",
    "\n",
    "plot_helper.create_boxplot(combined_dict, Const.gender, Const.centrality)\n",
    "plot_helper.create_boxplot(combined_dict, Const.race, Const.centrality)\n",
    "plot_helper.create_boxplot(combined_dict, Const.emotion, Const.centrality)\n",
    "plot_helper.create_boxplot(combined_dict, Const.age_range, Const.centrality)\n",
    "\n",
    "# Heatmap\n",
    "plot_helper.create_heatmap(combined_dict, values=Const.age, index=Const.race, columns=Const.gender)\n",
    "plot_helper.create_heatmap(combined_dict, values=Const.face_position_per, index=Const.race, columns=Const.gender)\n",
    "plot_helper.create_multidimensional_heatmap(combined_dict, values=Const.face_position_per, index=Const.race, columns=Const.gender, grouping=Const.emotion)\n",
    "plot_helper.create_multidimensional_heatmap(combined_dict, values=Const.face_position_per, index=Const.race, columns=Const.gender, grouping=Const.age_range)\n",
    "\n",
    "plot_helper.create_heatmap(combined_dict, values=Const.face_position_norm, index=Const.race, columns=Const.gender)\n",
    "plot_helper.create_multidimensional_heatmap(combined_dict, values=Const.face_position_norm, index=Const.race, columns=Const.gender, grouping=Const.emotion)\n",
    "plot_helper.create_multidimensional_heatmap(combined_dict, values=Const.face_position_norm, index=Const.race, columns=Const.gender, grouping=Const.age_range)\n",
    "\n",
    "\n",
    "plot_helper.create_multi_multidimensional_heatmap(combined_dict, values=Const.face_position_norm, index=Const.race, columns=Const.gender, grouping=Const.age_range, major_grouping=Const.emotion)\n",
    "\n",
    "\n",
    "# divergence\n",
    "plot_helper.create_simpl_distri_plot(combined_dict, Const.gender)\n",
    "plot_helper.create_simpl_distri_plot(combined_dict, Const.age_range)\n",
    "plot_helper.create_simpl_distri_plot(combined_dict, Const.race)\n",
    "plot_helper.create_simpl_distri_plot(combined_dict, Const.emotion)\n",
    "\n",
    "plot_helper.create_comp_distribution_plots_wout_dis(combined_dict, Const.gender, [Const.gender, Const.age_range, Const.race, Const.emotion])\n",
    "\n",
    "plot_helper.create_comp_distribution_plots_w_dis(combined_dict, Const.gender, [Const.gender, Const.age_range, Const.race, Const.emotion])\n",
    "plot_helper.create_comp_distribution_plots_w_dis(combined_dict, Const.race, [Const.gender, Const.age_range, Const.race, Const.emotion])\n",
    "plot_helper.create_comp_distribution_plots_w_dis(combined_dict, Const.emotion, [Const.gender, Const.age_range, Const.race, Const.emotion])\n",
    "plot_helper.create_comp_distribution_plots_w_dis(combined_dict, Const.age_range, [Const.gender, Const.age_range, Const.race, Const.emotion])\n"
   ]
  }
 ],
 "metadata": {
  "kernelspec": {
   "display_name": ".venv",
   "language": "python",
   "name": "python3"
  },
  "language_info": {
   "codemirror_mode": {
    "name": "ipython",
    "version": 3
   },
   "file_extension": ".py",
   "mimetype": "text/x-python",
   "name": "python",
   "nbconvert_exporter": "python",
   "pygments_lexer": "ipython3",
   "version": "3.12.11"
  }
 },
 "nbformat": 4,
 "nbformat_minor": 5
}
